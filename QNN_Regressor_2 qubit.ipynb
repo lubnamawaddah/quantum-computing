{
 "cells": [
  {
   "cell_type": "markdown",
   "id": "9cbc578f",
   "metadata": {},
   "source": [
    "# Quantum Mechine Learning (QML)"
   ]
  },
  {
   "cell_type": "markdown",
   "id": "bb71f8d7",
   "metadata": {},
   "source": [
    "# #1. Quantum Neural Network for Regression"
   ]
  },
  {
   "cell_type": "code",
   "execution_count": null,
   "id": "74638a2a",
   "metadata": {},
   "outputs": [],
   "source": [
    "# Impor librari\n",
    "import numpy as np\n",
    "import pandas as pd\n",
    "import matplotlib.pyplot as plt\n",
    "import matplotlib.image as mpimg\n",
    "\n",
    "from sklearn.preprocessing import StandardScaler\n",
    "from sklearn.model_selection import train_test_split\n",
    "from sklearn.model_selection import KFold\n",
    "from sklearn.metrics import mean_squared_error, mean_absolute_error, r2_score\n",
    "\n",
    "# QNN\n",
    "import time\n",
    "from IPython.display import clear_output\n",
    "from qiskit import Aer, QuantumCircuit, transpile, assemble\n",
    "from qiskit import Aer, QuantumCircuit\n",
    "from qiskit.circuit import Parameter\n",
    "from qiskit.circuit.library import RealAmplitudes, ZZFeatureMap\n",
    "from qiskit.circuit.library import EfficientSU2\n",
    "from qiskit.utils import algorithm_globals\n",
    "from qiskit.primitives import Sampler\n",
    "from qiskit.algorithms.optimizers import COBYLA, L_BFGS_B\n",
    "from qiskit_machine_learning.algorithms.regressors import NeuralNetworkRegressor, VQR\n",
    "from qiskit.visualization import plot_histogram, plot_bloch_multivector\n",
    "\n",
    "from scipy.optimize import minimize"
   ]
  },
  {
   "cell_type": "code",
   "execution_count": null,
   "id": "e58bab90",
   "metadata": {},
   "outputs": [],
   "source": [
    "# Impor dataset\n",
    "data = pd.read_excel('Concrete.xlsx')\n",
    "x = data[['Cement', 'Blast']] \n",
    "y = data['Strength']  \n",
    "\n",
    "# Normalisasi\n",
    "scaler = StandardScaler()\n",
    "x_scaled = scaler.fit_transform(x)\n",
    "\n",
    "# Split data\n",
    "x_train, x_test, y_train, y_test = train_test_split(x_scaled, y, test_size=0.2, random_state=42) # HoldOut Cross-Validation\n",
    "\n",
    "# QC\n",
    "def quantum_circuit(params, x):\n",
    "    qc = QuantumCircuit(2)\n",
    "    qc.h(0)\n",
    "    qc.h(1)\n",
    "    qc.ry(params[0] * x[0], 0)\n",
    "    qc.ry(params[1] * x[1], 1)\n",
    "    qc.cx(0, 1)\n",
    "    return qc\n",
    "\n",
    "# Objective function\n",
    "def objective_function(params):\n",
    "    total_loss = 0\n",
    "    for i in range(len(x_train)):\n",
    "        qc = quantum_circuit(params, x_train[i])\n",
    "        qc.measure_all()\n",
    "        t_qc = transpile(qc, Aer.get_backend('qasm_simulator'))\n",
    "        qobj = assemble(t_qc, shots=1024)\n",
    "        result = Aer.get_backend('qasm_simulator').run(qobj).result()\n",
    "        counts = result.get_counts()\n",
    "        expected_value = sum(int(key, 2) * counts.get(key, 0) for key in counts) / 1024\n",
    "        loss = (expected_value - y_train.iloc[i])**2\n",
    "        total_loss += loss\n",
    "    return total_loss\n",
    "\n",
    "# Initial parameter\n",
    "initial_params = [0.1, 0.1]\n",
    "\n",
    "# Optimasi QC parameter\n",
    "opt_result = minimize(objective_function, initial_params, method='COBYLA', options={'maxiter': 500, 'tol': 0.0001})\n",
    "opt_params = opt_result.x\n",
    "\n",
    "# Predik dengan parameter\n",
    "y_pred_tr = []\n",
    "y_pred_ts = []\n",
    "\n",
    "for i in range(len(x_train)):\n",
    "    qc = quantum_circuit(opt_params, x_train[i])\n",
    "    qc.measure_all()\n",
    "    t_qc = transpile(qc, Aer.get_backend('qasm_simulator'))\n",
    "    qobj = assemble(t_qc, shots=1024)\n",
    "    result = Aer.get_backend('qasm_simulator').run(qobj).result()\n",
    "    counts = result.get_counts()\n",
    "    expected_value = sum(int(key, 2) * counts.get(key, 0) for key in counts) / 1024\n",
    "    y_pred_tr.append(expected_value)\n",
    "\n",
    "for i in range(len(x_test)):\n",
    "    qc = quantum_circuit(opt_params, x_test[i])\n",
    "    qc.measure_all()\n",
    "    t_qc = transpile(qc, Aer.get_backend('qasm_simulator'))\n",
    "    qobj = assemble(t_qc, shots=1024)\n",
    "    result = Aer.get_backend('qasm_simulator').run(qobj).result()\n",
    "    counts = result.get_counts()\n",
    "    expected_value = sum(int(key, 2) * counts.get(key, 0) for key in counts) / 1024\n",
    "    y_pred_ts.append(expected_value)\n",
    "\n",
    "# Evaluasi model\n",
    "r2_tr   = r2_score(y_train, y_pred_tr)\n",
    "rmse_tr = np.sqrt(mean_squared_error(y_train, y_pred_tr))\n",
    "r2_ts   = r2_score(y_test, y_pred_ts)\n",
    "rmse_ts = np.sqrt(mean_squared_error(y_test, y_pred_ts))\n",
    "\n",
    "print(\"R-squared:\", r2_tr)\n",
    "print(\"RMSE:\", rmse_tr)\n",
    "print(\"R-squared:\", r2_ts)\n",
    "print(\"RMSE:\", rmse_ts)"
   ]
  },
  {
   "cell_type": "code",
   "execution_count": null,
   "id": "e0aab767",
   "metadata": {},
   "outputs": [],
   "source": [
    "# Menampilkan QC\n",
    "qc.draw(output='mpl')"
   ]
  },
  {
   "cell_type": "code",
   "execution_count": null,
   "id": "94232eba",
   "metadata": {},
   "outputs": [],
   "source": [
    "# Plot histogram hasil simulasi\n",
    "plot_histogram(result.get_counts(), color='skyblue', title=\"Hasil Simulasi\")"
   ]
  },
  {
   "cell_type": "markdown",
   "id": "3704854a",
   "metadata": {},
   "source": [
    "- Dalam konteks Quantum Machine Learning, keadaan kuantum yang sering muncul dalam hasil pengukuran mungkin memiliki hubungan dengan output yang diinginkan."
   ]
  }
 ],
 "metadata": {
  "kernelspec": {
   "display_name": "Python 3 (ipykernel)",
   "language": "python",
   "name": "python3"
  },
  "language_info": {
   "codemirror_mode": {
    "name": "ipython",
    "version": 3
   },
   "file_extension": ".py",
   "mimetype": "text/x-python",
   "name": "python",
   "nbconvert_exporter": "python",
   "pygments_lexer": "ipython3",
   "version": "3.11.5"
  }
 },
 "nbformat": 4,
 "nbformat_minor": 5
}
