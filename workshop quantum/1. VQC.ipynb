{
 "cells": [
  {
   "cell_type": "markdown",
   "id": "bb71f8d7",
   "metadata": {},
   "source": [
    "#  VQC-based QNN for Classifier"
   ]
  },
  {
   "cell_type": "markdown",
   "id": "fef1e7b3-4b8b-4c28-97c3-bf527c0c0618",
   "metadata": {},
   "source": [
    "Created by Muhamad Akrom m.akrom@dsn.dinus.ac.id"
   ]
  },
  {
   "cell_type": "code",
   "execution_count": 1,
   "id": "74638a2a",
   "metadata": {},
   "outputs": [
    {
     "name": "stderr",
     "output_type": "stream",
     "text": [
      "C:\\Users\\LENOVO\\AppData\\Local\\Temp\\ipykernel_1212\\3658511674.py:13: DeprecationWarning: ``qiskit.algorithms`` has been migrated to an independent package: https://github.com/qiskit-community/qiskit-algorithms. The ``qiskit.algorithms`` import path is deprecated as of qiskit-terra 0.25.0 and will be removed in Qiskit 1.0. Please run ``pip install qiskit_algorithms`` and use ``import qiskit_algorithms`` instead.\n",
      "  from qiskit.algorithms.optimizers import COBYLA\n"
     ]
    }
   ],
   "source": [
    "import numpy as np\n",
    "import matplotlib.pyplot as plt\n",
    "\n",
    "from sklearn.datasets import load_iris\n",
    "from sklearn.model_selection import train_test_split\n",
    "from sklearn.metrics import accuracy_score\n",
    "from IPython.display import clear_output\n",
    "\n",
    "from qiskit import Aer\n",
    "from qiskit.circuit.library import ZZFeatureMap, RealAmplitudes\n",
    "from qiskit.utils import QuantumInstance\n",
    "from qiskit_machine_learning.algorithms import VQC\n",
    "from qiskit.algorithms.optimizers import COBYLA"
   ]
  },
  {
   "cell_type": "markdown",
   "id": "e368d643",
   "metadata": {},
   "source": [
    "### 1. Load dataset (iris)"
   ]
  },
  {
   "cell_type": "code",
   "execution_count": 2,
   "id": "fb1e91ef",
   "metadata": {},
   "outputs": [],
   "source": [
    "data_iris = load_iris()\n",
    "x = data_iris.data\n",
    "y = data_iris.target\n",
    "\n",
    "# Hanya gunakan class 0 dan 1\n",
    "indexes = np.array([i for (i, s) in enumerate(y) if (s == 0 or s == 1)])\n",
    "x = x[indexes]\n",
    "y = 2 * y[indexes] - 1"
   ]
  },
  {
   "cell_type": "markdown",
   "id": "4220a701",
   "metadata": {},
   "source": [
    "### 2. Pre-processing"
   ]
  },
  {
   "cell_type": "markdown",
   "id": "4365ff95",
   "metadata": {},
   "source": [
    "- EDA (skip)\n",
    "- Normalization (skip)\n",
    "- Cross-validation (skip), and others..."
   ]
  },
  {
   "cell_type": "code",
   "execution_count": 3,
   "id": "fff5dd42",
   "metadata": {},
   "outputs": [],
   "source": [
    "# Split\n",
    "\n",
    "x_train, x_test, y_train, y_test = train_test_split(x, y, test_size=0.3, random_state=0)"
   ]
  },
  {
   "cell_type": "code",
   "execution_count": 4,
   "id": "f3fb5541",
   "metadata": {},
   "outputs": [],
   "source": [
    "# Ofv\n",
    "\n",
    "objective_func_vals = []\n",
    "def callback_graph(weights, obj_func_eval):\n",
    "    clear_output(wait=True)\n",
    "    objective_func_vals.append(obj_func_eval)\n",
    "    plt.xlabel(\"Iteration\")\n",
    "    plt.ylabel(\"Objective function value\")\n",
    "    plt.plot(range(len(objective_func_vals)), objective_func_vals)\n",
    "    plt.show()"
   ]
  },
  {
   "cell_type": "markdown",
   "id": "9ac8b72a",
   "metadata": {},
   "source": [
    "### 3. VQC Model"
   ]
  },
  {
   "cell_type": "code",
   "execution_count": 5,
   "id": "25e53800",
   "metadata": {},
   "outputs": [
    {
     "name": "stderr",
     "output_type": "stream",
     "text": [
      "C:\\Users\\LENOVO\\AppData\\Local\\Temp\\ipykernel_1212\\3395584176.py:2: DeprecationWarning: The 'qiskit.Aer' entry point is deprecated and will be removed in Qiskit 1.0. You should use 'qiskit_aer.Aer' directly instead.\n",
      "  backend          = Aer.get_backend('qasm_simulator')\n",
      "C:\\Users\\LENOVO\\AppData\\Local\\Temp\\ipykernel_1212\\3395584176.py:3: DeprecationWarning: The class ``qiskit.utils.quantum_instance.QuantumInstance`` is deprecated as of qiskit-terra 0.24.0. It will be removed in the Qiskit 1.0 release. For code migration guidelines, visit https://qisk.it/qi_migration.\n",
      "  quantum_instance = QuantumInstance(backend)\n"
     ]
    }
   ],
   "source": [
    "# Parameter\n",
    "backend          = Aer.get_backend('qasm_simulator')\n",
    "quantum_instance = QuantumInstance(backend)\n",
    "optimizer        = COBYLA(maxiter=100)\n",
    "num_qubits       = 4\n",
    "\n",
    "# Encoding-Ansatz\n",
    "feature_map = ZZFeatureMap(feature_dimension=num_qubits, reps=1)\n",
    "ansatz      = RealAmplitudes(num_qubits=num_qubits, reps=1)\n",
    "\n",
    "# Vqc\n",
    "vqc = VQC(\n",
    "    feature_map=feature_map,\n",
    "    ansatz=ansatz,\n",
    "    optimizer=optimizer,\n",
    "    callback=callback_graph\n",
    ")"
   ]
  },
  {
   "cell_type": "markdown",
   "id": "21e793f4",
   "metadata": {},
   "source": [
    "### 4. Training"
   ]
  },
  {
   "cell_type": "code",
   "execution_count": 6,
   "id": "8330fd1e",
   "metadata": {},
   "outputs": [
    {
     "data": {
      "image/png": "[encoded data removed]",
      "text/plain": [
       "<Figure size 640x480 with 1 Axes>"
      ]
     },
     "metadata": {},
     "output_type": "display_data"
    },
    {
     "data": {
      "text/plain": [
       "<qiskit_machine_learning.algorithms.classifiers.vqc.VQC at 0x16f4a07c1d0>"
      ]
     },
     "execution_count": 6,
     "metadata": {},
     "output_type": "execute_result"
    }
   ],
   "source": [
    "vqc.fit(x_train, y_train)"
   ]
  },
  {
   "cell_type": "markdown",
   "id": "4950141c",
   "metadata": {},
   "source": [
    "### 5. Evaluation"
   ]
  },
  {
   "cell_type": "code",
   "execution_count": 7,
   "id": "9f940c6d",
   "metadata": {},
   "outputs": [
    {
     "name": "stdout",
     "output_type": "stream",
     "text": [
      "Accuracy Train : 0.7\n",
      "Accuracy Test  : 0.9\n"
     ]
    }
   ],
   "source": [
    "y_pred_tr = vqc.predict(x_train)\n",
    "y_pred_ts = vqc.predict(x_test)\n",
    "\n",
    "acc_tr = np.round(accuracy_score(y_train, y_pred_tr), 3)\n",
    "acc_ts = np.round(accuracy_score(y_test, y_pred_ts), 3)\n",
    "print(\"Accuracy Train :\", acc_tr)\n",
    "print(\"Accuracy Test  :\", acc_ts)"
   ]
  }
 ],
 "metadata": {
  "kernelspec": {
   "display_name": "Python 3 (ipykernel)",
   "language": "python",
   "name": "python3"
  },
  "language_info": {
   "codemirror_mode": {
    "name": "ipython",
    "version": 3
   },
   "file_extension": ".py",
   "mimetype": "text/x-python",
   "name": "python",
   "nbconvert_exporter": "python",
   "pygments_lexer": "ipython3",
   "version": "3.11.5"
  }
 },
 "nbformat": 4,
 "nbformat_minor": 5
}
